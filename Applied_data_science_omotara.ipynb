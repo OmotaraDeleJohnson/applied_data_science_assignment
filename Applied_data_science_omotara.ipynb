{
 "cells": [
  {
   "cell_type": "code",
   "execution_count": 1,
   "metadata": {},
   "outputs": [
    {
     "name": "stdout",
     "output_type": "stream",
     "text": [
      "                           2019         2020         2021\n",
      "Population_total   2.009636e+08  206139587.0  211401000.0\n",
      "Rural_population   9.815665e+07   99033580.0   99895000.0\n",
      "Urban_population   1.028070e+08  107106007.0  111505000.0\n",
      "Population_female  9.913173e+07  101669950.0  104251000.0\n",
      "Population_male    1.018319e+08  104469637.0  107150000.0\n",
      "Death_rate_crude   1.163000e+01          NaN          NaN\n",
      "infant_deaths      5.470260e+05     541477.0          NaN\n",
      "Index(['2019', '2020', '2021'], dtype='object')\n",
      "2019    98156653.0\n",
      "2020    99033580.0\n",
      "2021    99895000.0\n",
      "Name: Rural_population, dtype: float64\n"
     ]
    },
    {
     "data": {
      "image/png": "[encoded data removed]",
      "text/plain": [
       "<Figure size 432x288 with 1 Axes>"
      ]
     },
     "metadata": {
      "needs_background": "light"
     },
     "output_type": "display_data"
    }
   ],
   "source": [
    "#!/usr/bin/env python3\n",
    "# -*- coding: utf-8 -*-\n",
    "\"\"\"\n",
    "Created on Wed Mar 16 16:41:46 2022\n",
    "\n",
    "@author: omotaradele-johnson\n",
    "\"\"\"\n",
    "\n",
    "import pandas as pd\n",
    "import matplotlib.pyplot as plot\n",
    "\n",
    "df = pd.read_csv('/Users/omotaradele-johnson/Documents/Applied data Science/Dataset_NGA.csv',delim_whitespace=True)\n",
    "print(df)\n",
    "header = df.columns\n",
    "print(header)\n",
    "\n",
    "# represent Population_total as 'pol'\n",
    "# ,, Rural_population as 'rur'\n",
    "# ,, Urban_population as 'urb'\n",
    "# ,, Population_female as 'poF'\n",
    "# ,, Population_male as 'pom'\n",
    "# ,, Death_rate_crude as 'drC'\n",
    "# ,, infant_deaths as 'ID'\n",
    "data = {\n",
    "        \"pol\": df.loc['Population_total'],\n",
    "        \"rur\": df.loc['Rural_population'],\n",
    "        \"urb\": df.loc['Urban_population'],\n",
    "        \"poF\": df.loc['Population_female'],\n",
    "        \"poM\": df.loc['Population_male'],\n",
    "        \"drC\": df.loc['Death_rate_crude'],\n",
    "        \"iD\": df.loc['infant_deaths']\n",
    "        }\n",
    "\n",
    "\n",
    "df2 = pd.DataFrame(data = data,index=df.columns);\n",
    "\n",
    "df2.plot.bar(rot = 0,title='Nigeria Population Estimate & projections');\n",
    "plot.yticks([100000000,200000000,300000000])\n",
    "plot.draw();\n",
    "#plot.show();\n",
    "\n",
    "pp = df.iloc[1]\n",
    "print(pp)\n"
   ]
  }
 ],
 "metadata": {
  "interpreter": {
   "hash": "42969dcd3a0d170eca2cda2837570d44cf2698f704146df7a0097653423f6b9d"
  },
  "kernelspec": {
   "display_name": "Python 3.9.7 ('base')",
   "language": "python",
   "name": "python3"
  },
  "language_info": {
   "codemirror_mode": {
    "name": "ipython",
    "version": 3
   },
   "file_extension": ".py",
   "mimetype": "text/x-python",
   "name": "python",
   "nbconvert_exporter": "python",
   "pygments_lexer": "ipython3",
   "version": "3.9.7"
  },
  "orig_nbformat": 4
 },
 "nbformat": 4,
 "nbformat_minor": 2
}
